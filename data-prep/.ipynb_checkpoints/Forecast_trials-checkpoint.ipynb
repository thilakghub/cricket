{
 "cells": [
  {
   "cell_type": "code",
   "execution_count": 1,
   "metadata": {},
   "outputs": [],
   "source": [
    "import pandas as pd\n",
    "import numpy as np\n",
    "from sklearn.metrics import r2_score\n",
    "from sklearn.metrics import mean_absolute_error\n",
    "from sklearn.model_selection import train_test_split"
   ]
  },
  {
   "cell_type": "code",
   "execution_count": 2,
   "metadata": {},
   "outputs": [],
   "source": [
    "import matplotlib.pyplot as plt"
   ]
  },
  {
   "cell_type": "code",
   "execution_count": 3,
   "metadata": {},
   "outputs": [],
   "source": [
    "def moving_avg_fcst(dataset):\n",
    "    dataset['predicted'] = dataset['runs_batsman'].rolling(window = 8).mean().shift(1)\n",
    "    train, test = train_test_split(dataset, test_size = 0.3, random_state=42)\n",
    "    r2 = r2_score(test[test['predicted'].notna() == True]['runs_batsman'], test[test['predicted'].notna() == True]['predicted'])\n",
    "    mae = mean_absolute_error(test[test['predicted'].notna() == True]['runs_batsman'], test[test['predicted'].notna() == True]['predicted'])\n",
    "    print(\"Moving average forecast r sq: \",round(r2*100,2),\"%\")\n",
    "    print(\"Moving average forecast mae: \",round(mae,2))\n",
    "    return(train, test)"
   ]
  },
  {
   "cell_type": "code",
   "execution_count": 4,
   "metadata": {},
   "outputs": [],
   "source": [
    "def plot_fcst(train, test):\n",
    "    train['predicted'] = np.nan\n",
    "    plot_data = train.append(test)\n",
    "    title = plot_data['batsman'][0]\n",
    "    plot_data = plot_data.sort_values(['batsman', 'match_date','match_type'], ascending=[True, True, True])\n",
    "    plot_data = plot_data.tail(50)\n",
    "    plot_data.plot(x = \"match_date\", y = [\"runs_batsman\", \"predicted\"], kind=\"bar\"\n",
    "                   ,title = title, figsize = (16, 8), fontsize = 10, legend = True)\n",
    "    plt.show()"
   ]
  },
  {
   "cell_type": "code",
   "execution_count": 5,
   "metadata": {},
   "outputs": [],
   "source": [
    "def run_model(dataset):\n",
    "    train, test = train_test_split(dataset, test_size = 0.3, random_state=42)\n",
    "    \n",
    "    train, test = moving_avg_fcst(dataset)\n",
    "\n",
    "    plot_fcst(train, test)"
   ]
  },
  {
   "cell_type": "code",
   "execution_count": 6,
   "metadata": {},
   "outputs": [],
   "source": [
    "player_1 = pd.read_csv(\"RG_Sharma.csv\")"
   ]
  },
  {
   "cell_type": "code",
   "execution_count": 7,
   "metadata": {},
   "outputs": [
    {
     "name": "stdout",
     "output_type": "stream",
     "text": [
      "Moving average forecast r sq:  -20.62 %\n",
      "Moving average forecast mae:  20.73\n"
     ]
    },
    {
     "name": "stderr",
     "output_type": "stream",
     "text": [
      "/Users/z001t72/anaconda3/lib/python3.6/site-packages/ipykernel_launcher.py:2: SettingWithCopyWarning: \n",
      "A value is trying to be set on a copy of a slice from a DataFrame.\n",
      "Try using .loc[row_indexer,col_indexer] = value instead\n",
      "\n",
      "See the caveats in the documentation: http://pandas.pydata.org/pandas-docs/stable/indexing.html#indexing-view-versus-copy\n",
      "  \n"
     ]
    },
    {
     "data": {
      "image/png": "[encoded data removed]",
      "text/plain": [
       "<Figure size 1152x576 with 1 Axes>"
      ]
     },
     "metadata": {
      "needs_background": "light"
     },
     "output_type": "display_data"
    }
   ],
   "source": [
    "run_model(player_1)"
   ]
  },
  {
   "cell_type": "code",
   "execution_count": null,
   "metadata": {},
   "outputs": [],
   "source": []
  }
 ],
 "metadata": {
  "kernelspec": {
   "display_name": "Python 3",
   "language": "python",
   "name": "python3"
  },
  "language_info": {
   "codemirror_mode": {
    "name": "ipython",
    "version": 3
   },
   "file_extension": ".py",
   "mimetype": "text/x-python",
   "name": "python",
   "nbconvert_exporter": "python",
   "pygments_lexer": "ipython3",
   "version": "3.6.2"
  }
 },
 "nbformat": 4,
 "nbformat_minor": 2
}
