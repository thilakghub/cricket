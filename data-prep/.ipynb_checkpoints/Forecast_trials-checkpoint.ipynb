{
 "cells": [
  {
   "cell_type": "code",
   "execution_count": 1,
   "metadata": {},
   "outputs": [],
   "source": [
    "import pandas as pd\n",
    "import numpy as np\n",
    "from sklearn.metrics import r2_score\n",
    "from sklearn.metrics import mean_absolute_error\n",
    "from sklearn.model_selection import train_test_split\n",
    "import statsmodels.api as sm"
   ]
  },
  {
   "cell_type": "code",
   "execution_count": 2,
   "metadata": {},
   "outputs": [],
   "source": [
    "import matplotlib.pyplot as plt"
   ]
  },
  {
   "cell_type": "code",
   "execution_count": 3,
   "metadata": {},
   "outputs": [],
   "source": [
    "def moving_avg_fcst(dataset):\n",
    "    dataset['predicted'] = dataset['runs_batsman'].rolling(window = 8).mean().shift(1)\n",
    "    train, test = train_test_split(dataset, test_size = 0.3, random_state=42)\n",
    "    r2 = r2_score(test[test['predicted'].notna() == True]['runs_batsman'], test[test['predicted'].notna() == True]['predicted'])\n",
    "    mae = mean_absolute_error(test[test['predicted'].notna() == True]['runs_batsman'], test[test['predicted'].notna() == True]['predicted'])\n",
    "    print(\"Moving average forecast r sq: \",round(r2*100,2),\"%\")\n",
    "    print(\"Moving average forecast mae: \",round(mae,2))\n",
    "    return(train, test)"
   ]
  },
  {
   "cell_type": "code",
   "execution_count": 20,
   "metadata": {},
   "outputs": [],
   "source": [
    "def linear_reg(train, test):\n",
    "    X = train[input_columns]\n",
    "    y = train['runs_batsman']\n",
    "    model = sm.OLS(y, X).fit()\n",
    "    print(model.summary())\n",
    "    train[\"predicted\"] = model.predict(X)\n",
    "    test['predicted'] = model.predict(test[input_columns])\n",
    "    r2 = r2_score(test[test['predicted'].notna() == True]['runs_batsman'], test[test['predicted'].notna() == True]['predicted'])\n",
    "    mae = mean_absolute_error(test[test['predicted'].notna() == True]['runs_batsman'], test[test['predicted'].notna() == True]['predicted'])\n",
    "    print(\"Linear reg forecast r sq: \",round(r2*100,2),\"%\")\n",
    "    print(\"Linear reg forecast mae: \",round(mae,2))\n",
    "    return(train, test)"
   ]
  },
  {
   "cell_type": "code",
   "execution_count": 21,
   "metadata": {},
   "outputs": [],
   "source": [
    "def plot_fcst1(train, test):\n",
    "    train['predicted'] = np.nan\n",
    "    plot_data = train.append(test)\n",
    "    title = plot_data['batsman'].unique()[0]\n",
    "    plot_data = plot_data.sort_values(['batsman', 'match_date','match_type'], ascending=[True, True, True])\n",
    "#     plot_data = plot_data.tail(50)\n",
    "    plot_data.plot(x = \"match_date\", y = [\"runs_batsman\", \"predicted\"], kind=\"bar\"\n",
    "                   ,title = title, figsize = (16, 8), fontsize = 10, legend = True)\n",
    "    plt.show()"
   ]
  },
  {
   "cell_type": "code",
   "execution_count": 22,
   "metadata": {},
   "outputs": [],
   "source": [
    "def plot_fcst2(train, test):\n",
    "    plot_data = test\n",
    "    title = plot_data['batsman'].unique()[0]\n",
    "    plot_data.plot(x = \"runs_batsman\", y = \"predicted\", kind=\"scatter\"\n",
    "                   ,title = title, figsize = (16, 8), fontsize = 10, legend = True\n",
    "                   ,xlim = ([0,100]), ylim = ([0,100]))\n",
    "    plt.show()"
   ]
  },
  {
   "cell_type": "code",
   "execution_count": 23,
   "metadata": {},
   "outputs": [],
   "source": [
    "def run_model(dataset):\n",
    "    train, test = train_test_split(dataset, test_size = 0.3, random_state=42)\n",
    "    \n",
    "#     train, test = moving_avg_fcst(dataset)\n",
    "    train, test = linear_reg(train, test)\n",
    "\n",
    "    plot_fcst1(train, test)\n",
    "    plot_fcst2(train, test)"
   ]
  },
  {
   "cell_type": "code",
   "execution_count": 24,
   "metadata": {},
   "outputs": [],
   "source": [
    "player_1 = pd.read_csv(\"RG_Sharma.csv\")"
   ]
  },
  {
   "cell_type": "code",
   "execution_count": 25,
   "metadata": {},
   "outputs": [],
   "source": [
    "player_1 = player_1.dropna()"
   ]
  },
  {
   "cell_type": "code",
   "execution_count": 26,
   "metadata": {},
   "outputs": [],
   "source": [
    "input_columns = ['innings_number','moving_average','avg_runs_innings_1','avg_runs_innings_2']"
   ]
  },
  {
   "cell_type": "code",
   "execution_count": 27,
   "metadata": {},
   "outputs": [
    {
     "name": "stdout",
     "output_type": "stream",
     "text": [
      "                            OLS Regression Results                            \n",
      "==============================================================================\n",
      "Dep. Variable:           runs_batsman   R-squared:                       0.544\n",
      "Model:                            OLS   Adj. R-squared:                  0.509\n",
      "Method:                 Least Squares   F-statistic:                     15.52\n",
      "Date:                Sun, 16 Feb 2020   Prob (F-statistic):           2.04e-08\n",
      "Time:                        00:23:58   Log-Likelihood:                -262.40\n",
      "No. Observations:                  56   AIC:                             532.8\n",
      "Df Residuals:                      52   BIC:                             540.9\n",
      "Df Model:                           4                                         \n",
      "Covariance Type:            nonrobust                                         \n",
      "======================================================================================\n",
      "                         coef    std err          t      P>|t|      [0.025      0.975]\n",
      "--------------------------------------------------------------------------------------\n",
      "innings_number         7.5369      7.647      0.986      0.329      -7.808      22.881\n",
      "moving_average        -0.4924      0.509     -0.968      0.338      -1.513       0.529\n",
      "avg_runs_innings_1     0.5956      0.530      1.125      0.266      -0.467       1.658\n",
      "avg_runs_innings_2    -0.4362      0.520     -0.838      0.406      -1.480       0.608\n",
      "==============================================================================\n",
      "Omnibus:                        6.447   Durbin-Watson:                   2.800\n",
      "Prob(Omnibus):                  0.040   Jarque-Bera (JB):                5.380\n",
      "Skew:                           0.659   Prob(JB):                       0.0679\n",
      "Kurtosis:                       2.245   Cond. No.                         463.\n",
      "==============================================================================\n",
      "\n",
      "Warnings:\n",
      "[1] Standard Errors assume that the covariance matrix of the errors is correctly specified.\n",
      "Linear reg forecast r sq:  -7.62 %\n",
      "Linear reg forecast mae:  20.47\n"
     ]
    },
    {
     "name": "stderr",
     "output_type": "stream",
     "text": [
      "/Users/z001t72/anaconda3/lib/python3.6/site-packages/ipykernel_launcher.py:6: SettingWithCopyWarning: \n",
      "A value is trying to be set on a copy of a slice from a DataFrame.\n",
      "Try using .loc[row_indexer,col_indexer] = value instead\n",
      "\n",
      "See the caveats in the documentation: http://pandas.pydata.org/pandas-docs/stable/indexing.html#indexing-view-versus-copy\n",
      "  \n",
      "/Users/z001t72/anaconda3/lib/python3.6/site-packages/ipykernel_launcher.py:7: SettingWithCopyWarning: \n",
      "A value is trying to be set on a copy of a slice from a DataFrame.\n",
      "Try using .loc[row_indexer,col_indexer] = value instead\n",
      "\n",
      "See the caveats in the documentation: http://pandas.pydata.org/pandas-docs/stable/indexing.html#indexing-view-versus-copy\n",
      "  import sys\n",
      "/Users/z001t72/anaconda3/lib/python3.6/site-packages/ipykernel_launcher.py:2: SettingWithCopyWarning: \n",
      "A value is trying to be set on a copy of a slice from a DataFrame.\n",
      "Try using .loc[row_indexer,col_indexer] = value instead\n",
      "\n",
      "See the caveats in the documentation: http://pandas.pydata.org/pandas-docs/stable/indexing.html#indexing-view-versus-copy\n",
      "  \n"
     ]
    },
    {
     "data": {
      "image/png": "[encoded data removed]",
      "text/plain": [
       "<Figure size 1152x576 with 1 Axes>"
      ]
     },
     "metadata": {
      "needs_background": "light"
     },
     "output_type": "display_data"
    },
    {
     "data": {
      "image/png": "[encoded data removed]",
      "text/plain": [
       "<Figure size 1152x576 with 1 Axes>"
      ]
     },
     "metadata": {
      "needs_background": "light"
     },
     "output_type": "display_data"
    }
   ],
   "source": [
    "run_model(player_1)"
   ]
  },
  {
   "cell_type": "code",
   "execution_count": null,
   "metadata": {},
   "outputs": [],
   "source": []
  }
 ],
 "metadata": {
  "kernelspec": {
   "display_name": "Python 3",
   "language": "python",
   "name": "python3"
  },
  "language_info": {
   "codemirror_mode": {
    "name": "ipython",
    "version": 3
   },
   "file_extension": ".py",
   "mimetype": "text/x-python",
   "name": "python",
   "nbconvert_exporter": "python",
   "pygments_lexer": "ipython3",
   "version": "3.6.2"
  }
 },
 "nbformat": 4,
 "nbformat_minor": 2
}
