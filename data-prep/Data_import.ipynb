{
 "cells": [
  {
   "cell_type": "code",
   "execution_count": 1,
   "metadata": {},
   "outputs": [],
   "source": [
    "import pandas as pd\n",
    "import yaml\n",
    "import numpy as np\n",
    "import os\n",
    "import datetime"
   ]
  },
  {
   "cell_type": "code",
   "execution_count": 2,
   "metadata": {},
   "outputs": [],
   "source": [
    "columns = ['match_date','match_type','teams','venue','overs','winner'\n",
    "           ,'innings_number','team','ball','batsman','bowler','non_striker'\n",
    "           ,'runs_batsman','runs_extras','runs_total'\n",
    "           ,'wicket_kind','wicket_player_out','wicket_fielders']"
   ]
  },
  {
   "cell_type": "code",
   "execution_count": 3,
   "metadata": {},
   "outputs": [],
   "source": [
    "def data_prep(name):\n",
    "    file = '/Users/z001t72/Documents/Training/cricket/data/all_male/' + name\n",
    "    with open(file, 'r') as f:\n",
    "        df = pd.io.json.json_normalize(yaml.load(f))\n",
    "    \n",
    "    if df['info.match_type'][0] in ['T20','ODI'] and 'info.outcome.winner' in df.columns:\n",
    "        df1 = df['innings'].apply(pd.Series).stack()\n",
    "        df1 = df1.reset_index()\n",
    "        df1 = df1[df1['level_1'] <= 1] #limiting only to 2 innings. this will exclude innings like super over\n",
    "        df1.columns = ['nr1','nr2','innings']\n",
    "        df1 = df1[['innings']]\n",
    "        df1 = pd.DataFrame(df1.innings.values.tolist())\n",
    "        df1.columns = ['innings_1','innings_2']\n",
    "        df1['innings'] = df1.innings_1.combine_first(df1.innings_2)\n",
    "        df1['innings_number'] = np.where(df1['innings_1'].isna(), '2', '1')\n",
    "        df1 = df1[['innings','innings_number']]\n",
    "        df1[['deliveries','team']] = pd.DataFrame(df1.innings.values.tolist(), index = df1.index)[['deliveries','team']] # sometimes there are additional columns that appear (like absent hurt), hence only selecting deliveries & team\n",
    "        df1 = df1.set_index(['innings_number', 'team'])['deliveries'].apply(pd.Series).stack()\n",
    "        df1 = df1.reset_index()\n",
    "        df1.columns = ['innings_number','team','notreqd','balls']\n",
    "\n",
    "        df1['ball'] = df1['balls'].apply(lambda x: list(x.keys())[0])\n",
    "        df1['batsman'] = df1['balls'].apply(lambda x: list(x.values())[0].get('batsman'))\n",
    "        df1['bowler'] = df1['balls'].apply(lambda x: list(x.values())[0].get('bowler'))\n",
    "        df1['non_striker'] = df1['balls'].apply(lambda x: list(x.values())[0].get('non_striker'))\n",
    "        df1['runs_batsman'] = df1['balls'].apply(lambda x: list(x.values())[0].get('runs', {}).get('batsman'))\n",
    "        df1['runs_extras'] = df1['balls'].apply(lambda x: list(x.values())[0].get('runs', {}).get('extras'))\n",
    "        df1['runs_total'] = df1['balls'].apply(lambda x: list(x.values())[0].get('runs', {}).get('total'))\n",
    "        df1['wicket_kind'] = df1['balls'].apply(lambda x: list(x.values())[0].get('wicket', {}).get('kind'))\n",
    "        df1['wicket_player_out'] = df1['balls'].apply(lambda x: list(x.values())[0].get('wicket', {}).get('player_out'))\n",
    "        df1['wicket_fielders'] = df1['balls'].apply(lambda x: list(x.values())[0].get('wicket', {}).get('fielders'))\n",
    "\n",
    "        # some dates are available as string and some as datetime\n",
    "        if type(df['info.dates'][0][0]) is str: df1['match_date'] = str(df['info.dates'][0][0])\n",
    "        elif type(df['info.dates'][0][0]) is datetime.date: df1['match_date'] = \"{:%Y-%m-%d}\".format(df['info.dates'][0][0])\n",
    "        else: df1['match_date'] = 'NA'\n",
    "            \n",
    "        df1['match_type'] = df['info.match_type'][0]\n",
    "        df1['teams'] = str(df['info.teams'][0])\n",
    "        df1['venue'] = df['info.venue'][0]\n",
    "#         df1['city'] = df[\"info.city\"][0]\n",
    "        df1['overs'] = df['info.overs'][0]\n",
    "        df1['winner'] = df['info.outcome.winner'][0]\n",
    "\n",
    "        df1 = df1[columns]\n",
    "        return(df1)\n",
    "    \n",
    "    elif 'result' in df.columns and df['info.outcome.result'][0] == 'no result':\n",
    "        print('...skipping no-result contests...')\n",
    "        \n",
    "    elif df['info.match_type'][0] in ['Test']:\n",
    "        print('...skipping Test matches...')\n",
    "    \n",
    "    else:\n",
    "        print('...skipping file, reason unknown...')"
   ]
  },
  {
   "cell_type": "code",
   "execution_count": 4,
   "metadata": {},
   "outputs": [],
   "source": [
    "master_odi_t20 = pd.DataFrame(columns = columns)"
   ]
  },
  {
   "cell_type": "code",
   "execution_count": null,
   "metadata": {},
   "outputs": [],
   "source": [
    "directory = '/Users/z001t72/Documents/Training/cricket/data/all_male/'"
   ]
  },
  {
   "cell_type": "code",
   "execution_count": null,
   "metadata": {
    "scrolled": false
   },
   "outputs": [
    {
     "name": "stdout",
     "output_type": "stream",
     "text": [
      "processing file number:  1  filename:  598067.yaml\n",
      "processing file number:  2  filename:  401072.yaml\n",
      "...skipping Test matches...\n",
      "processing file number:  3  filename:  582190.yaml\n",
      "processing file number:  4  filename:  897721.yaml\n",
      "processing file number:  5  filename:  829725.yaml\n",
      "processing file number:  6  filename:  1029827.yaml\n",
      "...skipping Test matches...\n",
      "processing file number:  7  filename:  501255.yaml\n",
      "processing file number:  8  filename:  267712.yaml\n",
      "processing file number:  9  filename:  1082637.yaml\n",
      "processing file number:  10  filename:  474467.yaml\n",
      "processing file number:  11  filename:  1114884.yaml\n",
      "processing file number:  12  filename:  1167153.yaml\n",
      "processing file number:  13  filename:  1128841.yaml\n",
      "...skipping file, reason unknown...\n",
      "processing file number:  14  filename:  778041.yaml\n",
      "...skipping file, reason unknown...\n",
      "processing file number:  15  filename:  289108.yaml\n",
      "processing file number:  16  filename:  419157.yaml\n",
      "processing file number:  17  filename:  565817.yaml\n",
      "...skipping Test matches...\n",
      "processing file number:  18  filename:  1188621.yaml\n"
     ]
    }
   ],
   "source": [
    "i = 0\n",
    "for filename in os.listdir(directory):\n",
    "    if filename.endswith(\".yaml\"):\n",
    "        i = i + 1\n",
    "        print('processing file number: ',i,' filename: ',filename)\n",
    "        match_data = data_prep(filename)\n",
    "        master_odi_t20 = master_odi_t20.append(match_data)\n",
    "        if i%100 == 0:\n",
    "            master_odi_t20.to_csv(\"master_odi_t20.csv\", index = False)\n",
    "    else:\n",
    "        continue"
   ]
  },
  {
   "cell_type": "markdown",
   "metadata": {},
   "source": [
    "checks"
   ]
  },
  {
   "cell_type": "code",
   "execution_count": null,
   "metadata": {},
   "outputs": [],
   "source": [
    "# file = '/Users/z001t72/Documents/Training/cricket/data/all_male/' + '931390.yaml'\n",
    "# with open(file, 'r') as f:\n",
    "#     df = pd.io.json.json_normalize(yaml.load(f))"
   ]
  },
  {
   "cell_type": "code",
   "execution_count": null,
   "metadata": {},
   "outputs": [],
   "source": [
    "# df1 = df['innings'].apply(pd.Series).stack()\n",
    "# df1 = df1.reset_index()\n",
    "# df1 = df1[df1['level_1'] <= 1] #limiting only to 2 innings. this will exclude innings like super over\n",
    "# df1.columns = ['nr1','nr2','innings']\n",
    "# df1 = df1[['innings']]\n",
    "# df1 = pd.DataFrame(df1.innings.values.tolist())\n",
    "# df1.columns = ['innings_1','innings_2']\n",
    "# df1['innings'] = df1.innings_1.combine_first(df1.innings_2)\n",
    "# df1['innings_number'] = np.where(df1['innings_1'].isna(), '2', '1')\n",
    "# df1 = df1[['innings','innings_number']]\n",
    "# df1[['deliveries','team']] = pd.DataFrame(df1.innings.values.tolist(), index = df1.index)[['deliveries','team']]\n",
    "# df1 = df1.set_index(['innings_number', 'team'])['deliveries'].apply(pd.Series).stack()\n",
    "# df1 = df1.reset_index()\n",
    "# df1.columns = ['innings_number','team','notreqd','balls']\n",
    "\n",
    "# df1['ball'] = df1['balls'].apply(lambda x: list(x.keys())[0])\n",
    "# df1['batsman'] = df1['balls'].apply(lambda x: list(x.values())[0].get('batsman'))\n",
    "# df1['non_striker'] = df1['balls'].apply(lambda x: list(x.values())[0].get('non_striker'))\n",
    "# df1['runs_batsman'] = df1['balls'].apply(lambda x: list(x.values())[0].get('runs', {}).get('batsman'))\n",
    "# df1['runs_extras'] = df1['balls'].apply(lambda x: list(x.values())[0].get('runs', {}).get('extras'))\n",
    "# df1['runs_total'] = df1['balls'].apply(lambda x: list(x.values())[0].get('runs', {}).get('total'))\n",
    "# df1['wicket_kind'] = df1['balls'].apply(lambda x: list(x.values())[0].get('wicket', {}).get('kind'))\n",
    "# df1['wicket_player_out'] = df1['balls'].apply(lambda x: list(x.values())[0].get('wicket', {}).get('player_out'))\n",
    "# df1['wicket_fielders'] = df1['balls'].apply(lambda x: list(x.values())[0].get('wicket', {}).get('fielders'))\n",
    "\n",
    "# # some dates are available as string and some as datetime\n",
    "# if type(df['info.dates'][0][0]) is str: df1['match_date'] = str(df['info.dates'][0][0])\n",
    "# elif type(df['info.dates'][0][0]) is datetime.date: df1['match_date'] = \"{:%Y-%m-%d}\".format(df['info.dates'][0][0])\n",
    "# else: df1['match_date'] = 'NA'\n",
    "\n",
    "# df1['match_type'] = df['info.match_type'][0]\n",
    "# df1['teams'] = str(df['info.teams'][0])\n",
    "# df1['venue'] = df['info.venue'][0]\n",
    "# #         df1['city'] = df[\"info.city\"][0]\n",
    "# df1['overs'] = df['info.overs'][0]\n",
    "# df1['winner'] = df['info.outcome.winner'][0]\n",
    "\n",
    "# df1 = df1[columns]"
   ]
  }
 ],
 "metadata": {
  "kernelspec": {
   "display_name": "Python 3",
   "language": "python",
   "name": "python3"
  },
  "language_info": {
   "codemirror_mode": {
    "name": "ipython",
    "version": 3
   },
   "file_extension": ".py",
   "mimetype": "text/x-python",
   "name": "python",
   "nbconvert_exporter": "python",
   "pygments_lexer": "ipython3",
   "version": "3.6.2"
  }
 },
 "nbformat": 4,
 "nbformat_minor": 2
}
